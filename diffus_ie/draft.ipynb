{
 "cells": [
  {
   "cell_type": "code",
   "execution_count": 1,
   "metadata": {},
   "outputs": [],
   "source": [
    "from transformers import AutoTokenizer\n",
    "\n",
    "tokenizer = AutoTokenizer.from_pretrained('roberta-base')\n",
    "text = \"This is a sample sentence\""
   ]
  },
  {
   "cell_type": "code",
   "execution_count": 2,
   "metadata": {},
   "outputs": [],
   "source": [
    "output = tokenizer(text=text)"
   ]
  },
  {
   "cell_type": "code",
   "execution_count": 4,
   "metadata": {},
   "outputs": [
    {
     "data": {
      "text/plain": [
       "[0, 713, 16, 10, 7728, 3645, 2]"
      ]
     },
     "execution_count": 4,
     "metadata": {},
     "output_type": "execute_result"
    }
   ],
   "source": [
    "output.input_ids"
   ]
  },
  {
   "cell_type": "code",
   "execution_count": 11,
   "metadata": {},
   "outputs": [
    {
     "name": "stdout",
     "output_type": "stream",
     "text": [
      "s\n",
      "4\n"
     ]
    }
   ],
   "source": [
    "idx = 10\n",
    "print(text[idx])\n",
    "print(output.char_to_token(idx))"
   ]
  },
  {
   "cell_type": "code",
   "execution_count": null,
   "metadata": {},
   "outputs": [],
   "source": [
    "(encoder): RobertaEncoder(\n",
    "  (layer): ModuleList(\n",
    "    (0-11): 12 x RobertaLayer(\n",
    "      (attention): RobertaAttention(\n",
    "        (self): RobertaSelfAttention(\n",
    "          (query): Linear(in_features=768, out_features=768, bias=True)\n",
    "          (key): Linear(in_features=768, out_features=768, bias=True)\n",
    "          (value): Linear(in_features=768, out_features=768, bias=True)\n",
    "          (dropout): Dropout(p=0.1, inplace=False)\n",
    "        )\n",
    "        (output): RobertaSelfOutput(\n",
    "          (dense): Linear(in_features=768, out_features=768, bias=True)\n",
    "          (LayerNorm): LayerNorm((768,), eps=1e-05, elementwise_affine=True)\n",
    "          (dropout): Dropout(p=0.1, inplace=False)\n",
    "        )\n",
    "      )\n",
    "      (intermediate): RobertaIntermediate(\n",
    "        (dense): Linear(in_features=768, out_features=3072, bias=True)\n",
    "        (intermediate_act_fn): GELUActivation()\n",
    "      )\n",
    "      (output): RobertaOutput(\n",
    "        (dense): Linear(in_features=3072, out_features=768, bias=True)\n",
    "        (LayerNorm): LayerNorm((768,), eps=1e-05, elementwise_affine=True)\n",
    "        (dropout): Dropout(p=0.1, inplace=False)\n",
    "      )\n",
    "    )\n",
    "  )\n",
    ")\n",
    "(pooler): RobertaPooler(\n",
    "  (dense): Linear(in_features=768, out_features=768, bias=True)\n",
    "  (activation): Tanh()\n",
    ")"
   ]
  }
 ],
 "metadata": {
  "kernelspec": {
   "display_name": "ie_env",
   "language": "python",
   "name": "python3"
  },
  "language_info": {
   "codemirror_mode": {
    "name": "ipython",
    "version": 3
   },
   "file_extension": ".py",
   "mimetype": "text/x-python",
   "name": "python",
   "nbconvert_exporter": "python",
   "pygments_lexer": "ipython3",
   "version": "3.10.11"
  },
  "orig_nbformat": 4
 },
 "nbformat": 4,
 "nbformat_minor": 2
}
